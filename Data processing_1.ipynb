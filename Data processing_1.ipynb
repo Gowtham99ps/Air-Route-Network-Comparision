{
 "cells": [
  {
   "cell_type": "code",
   "execution_count": 1,
   "metadata": {},
   "outputs": [],
   "source": [
    "import pandas as pd"
   ]
  },
  {
   "cell_type": "code",
   "execution_count": 130,
   "metadata": {},
   "outputs": [],
   "source": [
    "airline = pd.read_csv('airlines.csv')\n",
    "alliance = pd.read_csv('alliances.csv')\n",
    "route = pd.read_csv('routes.csv')\n",
    "airport = pd.read_csv('airports-extended.csv', header=None, \n",
    "                      names=['id', 'airport_name', 'city', 'country', 'IATA', 'ICAO',\n",
    "                             'latitude', 'longitude', 'altitude',\n",
    "                             'timezone', 'daylight_saving_time', 'database_timezone', 'type', 'source'])"
   ]
  },
  {
   "cell_type": "code",
   "execution_count": 21,
   "metadata": {},
   "outputs": [
    {
     "data": {
      "text/plain": [
       "Star Alliance    27\n",
       "Skyteam          20\n",
       "Oneworld         15\n",
       "Name: Member, dtype: int64"
      ]
     },
     "execution_count": 21,
     "metadata": {},
     "output_type": "execute_result"
    }
   ],
   "source": [
    "alliance.Member.value_counts()"
   ]
  },
  {
   "cell_type": "code",
   "execution_count": 38,
   "metadata": {},
   "outputs": [],
   "source": [
    "df = airline.merge(alliance, how='right', on='IATA')\n",
    "df = df[df.Name_x == df.Name_y]\n",
    "df = df.merge(route, how='left', left_on='IATA', right_on='airline')"
   ]
  },
  {
   "cell_type": "code",
   "execution_count": 40,
   "metadata": {
    "scrolled": false
   },
   "outputs": [
    {
     "data": {
      "text/plain": [
       "Index(['Airline ID', 'Name_x', 'Alias', 'IATA', 'ICAO', 'Callsign', 'Country',\n",
       "       'Active', 'Name_y', 'Member', 'airline', 'airline ID',\n",
       "       ' source airport', ' source airport id', ' destination apirport',\n",
       "       ' destination airport id', ' codeshare', ' stops', ' equipment'],\n",
       "      dtype='object')"
      ]
     },
     "execution_count": 40,
     "metadata": {},
     "output_type": "execute_result"
    }
   ],
   "source": [
    "df.columns"
   ]
  },
  {
   "cell_type": "code",
   "execution_count": 89,
   "metadata": {},
   "outputs": [],
   "source": [
    "def compute_edge_list(df, group, column='Member'):\n",
    "    df = df[df[column] == group]\n",
    "    df1 = df[df[' source airport'] < df[' destination apirport']].\\\n",
    "        groupby([' source airport', ' destination apirport']).IATA.count().\\\n",
    "        reset_index().rename(columns={' source airport': 'airport1', ' destination apirport': 'airport2'})\n",
    "    df2 = df[df[' source airport'] > df[' destination apirport']].\\\n",
    "        groupby([' destination apirport', ' source airport']).IATA.count().\\\n",
    "        reset_index().rename(columns={' destination apirport': 'airport1', ' source airport': 'airport2'})\n",
    "    df3 = df1.merge(df2, how='outer', on=['airport1', 'airport2']).fillna(0)\n",
    "    df3[group] = df3.IATA_x + df3.IATA_y\n",
    "    return df3[['airport1', 'airport2', group]]\n",
    "\n",
    "def get_all_edge_lists(df, column='Member'):\n",
    "    edge_lists = None\n",
    "    for group in df[column].unique():\n",
    "        if edge_lists is None:\n",
    "            edge_lists = compute_edge_list(df, group)\n",
    "        else:\n",
    "            edge_lists = edge_lists.merge(compute_edge_list(df, group), how='outer', on=['airport1', 'airport2']).fillna(0)\n",
    "    return edge_lists"
   ]
  },
  {
   "cell_type": "code",
   "execution_count": 90,
   "metadata": {},
   "outputs": [],
   "source": [
    "edge_lists = get_all_edge_lists(df)"
   ]
  },
  {
   "cell_type": "code",
   "execution_count": 124,
   "metadata": {},
   "outputs": [],
   "source": [
    "edge_lists.rename(columns={'Star Alliance': 'StarAlliance'}).to_csv('airline_edges.csv', index=False)"
   ]
  },
  {
   "cell_type": "code",
   "execution_count": 131,
   "metadata": {},
   "outputs": [],
   "source": [
    "nodes = pd.DataFrame(sorted(list(set(edge_lists.airport1) | set(edge_lists.airport2))), columns=['IATA'])"
   ]
  },
  {
   "cell_type": "code",
   "execution_count": 132,
   "metadata": {},
   "outputs": [],
   "source": [
    "nodes = nodes.merge(airport, how='left', on='IATA')"
   ]
  },
  {
   "cell_type": "code",
   "execution_count": 133,
   "metadata": {},
   "outputs": [],
   "source": [
    "nodes.to_csv('airline_nodes.csv', index=False)"
   ]
  },
  {
   "cell_type": "code",
   "execution_count": 134,
   "metadata": {},
   "outputs": [
    {
     "data": {
      "text/plain": [
       "10794.0"
      ]
     },
     "execution_count": 134,
     "metadata": {},
     "output_type": "execute_result"
    }
   ],
   "source": [
    "edge_lists.Skyteam.sum()"
   ]
  }
 ],
 "metadata": {
  "kernelspec": {
   "display_name": "Python 3",
   "language": "python",
   "name": "python3"
  },
  "language_info": {
   "codemirror_mode": {
    "name": "ipython",
    "version": 3
   },
   "file_extension": ".py",
   "mimetype": "text/x-python",
   "name": "python",
   "nbconvert_exporter": "python",
   "pygments_lexer": "ipython3",
   "version": "3.6.6"
  }
 },
 "nbformat": 4,
 "nbformat_minor": 2
}
